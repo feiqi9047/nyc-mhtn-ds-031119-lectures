{
 "cells": [
  {
   "cell_type": "code",
   "execution_count": 23,
   "metadata": {},
   "outputs": [
    {
     "name": "stdout",
     "output_type": "stream",
     "text": [
      "Even\n",
      "Odd\n"
     ]
    }
   ],
   "source": [
    "def odd_even(number):\n",
    "    if number%2==0:\n",
    "        return 'Even';\n",
    "    else: \n",
    "        return 'Odd';\n",
    "    \n",
    "print(odd_even(4))\n",
    "print(odd_even(139))\n"
   ]
  },
  {
   "cell_type": "code",
   "execution_count": 26,
   "metadata": {},
   "outputs": [
    {
     "name": "stdout",
     "output_type": "stream",
     "text": [
      "[4, 6]\n"
     ]
    }
   ],
   "source": [
    "def even_list(numbers):\n",
    "    new_list=[]\n",
    "    for x in numbers:\n",
    "        if x%2==0:\n",
    "            new_list.append(x);\n",
    "    return new_list\n",
    "\n",
    "print(even_list([1,3,4,6,7]))"
   ]
  },
  {
   "cell_type": "code",
   "execution_count": 32,
   "metadata": {},
   "outputs": [
    {
     "name": "stdout",
     "output_type": "stream",
     "text": [
      "[]\n"
     ]
    }
   ],
   "source": [
    "def unique_names(list_of_names):\n",
    "    ordered_list = sorted(list_of_names)\n",
    "    new_list = []\n",
    "    for x in ordered_list:\n",
    "        if ordered_list.count(x)==1:\n",
    "            new_list.append(x)\n",
    "        return new_list\n",
    "\n",
    "print(unique_names(['john', 'john', 'john']))"
   ]
  },
  {
   "cell_type": "code",
   "execution_count": 58,
   "metadata": {},
   "outputs": [
    {
     "name": "stdout",
     "output_type": "stream",
     "text": [
      "None\n",
      "None\n"
     ]
    }
   ],
   "source": [
    "def palindrome_detector(string):\n",
    "    letters = list(string)\n",
    "    if letters[0] == letters[-1]:\n",
    "        letters.pop(0)\n",
    "        letters.pop(-1);\n",
    "        'True';\n",
    "    else:\n",
    "        'False';\n",
    "        \n",
    "    \n",
    "\n",
    "print(palindrome_detector('racecar'))\n",
    "print(palindrome_detector('not'))\n",
    "\n"
   ]
  },
  {
   "cell_type": "code",
   "execution_count": null,
   "metadata": {},
   "outputs": [],
   "source": []
  }
 ],
 "metadata": {
  "kernelspec": {
   "display_name": "Python 3",
   "language": "python",
   "name": "python3"
  },
  "language_info": {
   "codemirror_mode": {
    "name": "ipython",
    "version": 3
   },
   "file_extension": ".py",
   "mimetype": "text/x-python",
   "name": "python",
   "nbconvert_exporter": "python",
   "pygments_lexer": "ipython3",
   "version": "3.7.1"
  }
 },
 "nbformat": 4,
 "nbformat_minor": 2
}
